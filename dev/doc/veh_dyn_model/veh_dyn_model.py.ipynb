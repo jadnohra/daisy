{
 "cells": [
  {
   "cell_type": "code",
   "execution_count": 110,
   "metadata": {},
   "outputs": [
    {
     "data": {
      "image/png": "[encoded data removed]",
      "text/plain": [
       "<Figure size 432x288 with 1 Axes>"
      ]
     },
     "metadata": {
      "needs_background": "light"
     },
     "output_type": "display_data"
    }
   ],
   "source": [
    "# https://gitlab.lrz.de/tum-cps/commonroad-vehicle-models/blob/master/vehicleModels_commonRoad.pdf\n",
    "# https://github.com/pricejiang/RRT_planner/blob/master/model/Car_Kinematic/Car_Kinematic.py\n",
    "\n",
    "import collections\n",
    "from scipy.integrate import odeint\n",
    "import numpy as np\n",
    "import matplotlib.pyplot as plt\n",
    "import math\n",
    "import random\n",
    "\n",
    "KinematicSingleTrackConfig = collections.namedtuple('KinematicSingleTrackConfig', \n",
    "                                                     'name steer_min steer_max v_steer_min '\n",
    "                                                      'v_steer_max v_min v_max a_max switch_v')\n",
    "\n",
    "kst_config_small_car = KinematicSingleTrackConfig(name='small_car', \n",
    "                                                    steer_min=-0.91, steer_max=0.91,\n",
    "                                                    v_steer_min=-0.4, v_steer_max=0.4,\n",
    "                                                    v_min=-13.9, v_max=45.8,\n",
    "                                                    a_max=11.5, switch_v=4.755)\n",
    "\n",
    "def control_vector(steer_vel=0.0, long_accel=0.0):\n",
    "    return [float(x) for x in [steer_vel, long_accel]]\n",
    "\n",
    "def state_vector(pos_x=0.0, pos_y=0.0, yaw=0.0, vel=0.0, steer_angle=0.0):\n",
    "    return [float(x) for x in [pos_x, pos_y, yaw, vel, steer_angle]]\n",
    "\n",
    "def state_vector_pos(state_vector):\n",
    "    return state_vector[0:2]\n",
    "\n",
    "\n",
    "def model_diff_eq_kinematic_single_track(Xn, u, config=kst_config_small_car):\n",
    "    v = Xn[3]\n",
    "    psi = Xn[2]\n",
    "    sx_dot = v*np.cos(psi)\n",
    "    sy_dot = v*np.sin(psi)\n",
    "    psi_dot = np.clip(v, config.v_min, config.v_max)/2.578*np.tan(np.clip(Xn[4], config.steer_min, config.steer_max))\n",
    "    return [sx_dot, sy_dot, psi_dot, u[1], u[0]]\n",
    "\n",
    "def integ_state(Xn, u, dt=0.2, model_diff_eq=model_diff_eq_kinematic_single_track):\n",
    "    # RK4\n",
    "    k1 = np.array(model_diff_eq(Xn, u))\n",
    "    k2 = np.array(model_diff_eq(Xn+k1/2, u))\n",
    "    k3 = np.array(model_diff_eq(Xn+k2/2, u))\n",
    "    k4 = np.array(model_diff_eq(Xn+k3, u))\n",
    "    Xnn = Xn + (k1 + 2*k2 + 2*k3 + k4)*dt/6\n",
    "    return [float(x) for x in Xnn]\n",
    "\n",
    "def integ_state_ut(n, Xn, ut_func, t0=0.0, dt=0.2, model_diff_eq=model_diff_eq_kinematic_single_track):\n",
    "    states = [Xn]\n",
    "    for i in range(n):\n",
    "        u = ut_func(t0+dt*i)\n",
    "        states.append(integ_state(states[-1], u, dt=dt, model_diff_eq=model_diff_eq))\n",
    "    return states\n",
    "\n",
    "def plot_traj(states):\n",
    "    pts_x = [state_vector_pos(x)[0] for x in states]\n",
    "    pts_y = [state_vector_pos(x)[1] for x in states]\n",
    "    plt.scatter(pts_x, pts_y)\n",
    "    plt.plot(pts_x, pts_y)\n",
    "\n",
    "def ut(t):\n",
    "    return control_vector(long_accel=0.8, steer_vel=0.7*np.sin(t))\n",
    "    \n",
    "\n",
    "states = integ_state_ut(150, state_vector(pos_x=5, pos_y=5), ut_func=(lambda t: control_vector(long_accel=0.8, steer_vel=0.1)), dt=0.05)\n",
    "plot_traj(states)\n",
    "states = integ_state_ut(150, state_vector(pos_x=5, pos_y=5), ut_func=ut, dt=0.05)\n",
    "plot_traj(states)\n",
    "plt.show()\n"
   ]
  },
  {
   "cell_type": "code",
   "execution_count": 135,
   "metadata": {},
   "outputs": [
    {
     "data": {
      "image/png": "[encoded data removed]",
      "text/plain": [
       "<Figure size 432x288 with 1 Axes>"
      ]
     },
     "metadata": {
      "needs_background": "light"
     },
     "output_type": "display_data"
    }
   ],
   "source": [
    "def ut_left_right_step(t, steer_v, total_t):\n",
    "    sv = steer_v if t < total_t*0.3 else (-steer_v if t <= total_t else 0)\n",
    "    return control_vector(steer_vel=sv)\n",
    "    \n",
    "total_t = 5.0\n",
    "dt = 0.1\n",
    "states = integ_state_ut(int(total_t/dt), state_vector(vel=5), \n",
    "                            ut_func=(lambda t: ut_left_right_step(t, 0.2, total_t)), dt=dt)\n",
    "plot_traj(states)"
   ]
  },
  {
   "cell_type": "code",
   "execution_count": null,
   "metadata": {},
   "outputs": [],
   "source": []
  }
 ],
 "metadata": {
  "kernelspec": {
   "display_name": "Python 3",
   "language": "python",
   "name": "python3"
  },
  "language_info": {
   "codemirror_mode": {
    "name": "ipython",
    "version": 3
   },
   "file_extension": ".py",
   "mimetype": "text/x-python",
   "name": "python",
   "nbconvert_exporter": "python",
   "pygments_lexer": "ipython3",
   "version": "3.6.9"
  }
 },
 "nbformat": 4,
 "nbformat_minor": 2
}
